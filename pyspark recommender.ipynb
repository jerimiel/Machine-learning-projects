{
 "cells": [
  {
   "cell_type": "code",
   "execution_count": 1,
   "id": "647aff74",
   "metadata": {},
   "outputs": [],
   "source": [
    "import findspark\n",
    "findspark.init()\n",
    "from pyspark.sql import SparkSession\n",
    "spark=SparkSession.builder.appName('recommender').getOrCreate()\n",
    "from pyspark.ml.recommendation import ALS\n",
    "from pyspark.ml.feature import VectorAssembler\n",
    "from pyspark.ml.feature import StringIndexer,IndexToString"
   ]
  },
  {
   "cell_type": "code",
   "execution_count": 2,
   "id": "ad2408f6",
   "metadata": {},
   "outputs": [],
   "source": [
    "dfbooks=spark.read.csv(r\"C:\\Users\\Sky\\Videos\\codes\\book_recommend\\Books.csv\",inferSchema=True,header=True)\n",
    "dfrate=spark.read.csv(r\"C:\\Users\\Sky\\Videos\\codes\\book_recommend\\Ratings.csv\",inferSchema=True,header=True)\n",
    "dfusers=spark.read.csv(r\"C:\\Users\\Sky\\Videos\\codes\\book_recommend\\Users.csv\",inferSchema=True,header=True)"
   ]
  },
  {
   "cell_type": "code",
   "execution_count": 3,
   "id": "1e242dfe",
   "metadata": {},
   "outputs": [
    {
     "data": {
      "text/plain": [
       "['ISBN',\n",
       " 'Book-Title',\n",
       " 'Book-Author',\n",
       " 'Year-Of-Publication',\n",
       " 'Publisher',\n",
       " 'Image-URL-S',\n",
       " 'Image-URL-M',\n",
       " 'Image-URL-L']"
      ]
     },
     "execution_count": 3,
     "metadata": {},
     "output_type": "execute_result"
    }
   ],
   "source": [
    "dfbooks.columns"
   ]
  },
  {
   "cell_type": "code",
   "execution_count": 4,
   "id": "be9da5c9",
   "metadata": {},
   "outputs": [],
   "source": [
    "newbooks=dfbooks.select('ISBN','Book-Title')"
   ]
  },
  {
   "cell_type": "code",
   "execution_count": 5,
   "id": "bb9a2891",
   "metadata": {},
   "outputs": [
    {
     "name": "stdout",
     "output_type": "stream",
     "text": [
      "+----------+-------------------+\n",
      "|      ISBN|         Book-Title|\n",
      "+----------+-------------------+\n",
      "|0195153448|Classical Mythology|\n",
      "|0002005018|       Clara Callan|\n",
      "+----------+-------------------+\n",
      "only showing top 2 rows\n",
      "\n"
     ]
    }
   ],
   "source": [
    "newbooks.show(2)"
   ]
  },
  {
   "cell_type": "code",
   "execution_count": 6,
   "id": "9c5c3ca1",
   "metadata": {},
   "outputs": [],
   "source": [
    "newbooks=newbooks.dropDuplicates()"
   ]
  },
  {
   "cell_type": "code",
   "execution_count": 7,
   "id": "e1bb1eb8",
   "metadata": {},
   "outputs": [
    {
     "data": {
      "text/plain": [
       "271360"
      ]
     },
     "execution_count": 7,
     "metadata": {},
     "output_type": "execute_result"
    }
   ],
   "source": [
    "newbooks.count()"
   ]
  },
  {
   "cell_type": "code",
   "execution_count": 8,
   "id": "c3963936",
   "metadata": {},
   "outputs": [],
   "source": [
    "del(dfbooks)"
   ]
  },
  {
   "cell_type": "code",
   "execution_count": 9,
   "id": "d2daab92",
   "metadata": {},
   "outputs": [
    {
     "name": "stdout",
     "output_type": "stream",
     "text": [
      "+-------+----------+-----------+\n",
      "|User-ID|      ISBN|Book-Rating|\n",
      "+-------+----------+-----------+\n",
      "| 276725|034545104X|          0|\n",
      "| 276726|0155061224|          5|\n",
      "| 276727|0446520802|          0|\n",
      "| 276729|052165615X|          3|\n",
      "| 276729|0521795028|          6|\n",
      "+-------+----------+-----------+\n",
      "only showing top 5 rows\n",
      "\n"
     ]
    }
   ],
   "source": [
    "dfrate.show(5)"
   ]
  },
  {
   "cell_type": "code",
   "execution_count": 10,
   "id": "18f83549",
   "metadata": {},
   "outputs": [],
   "source": [
    "newer=dfrate.join(newbooks,on='ISBN')"
   ]
  },
  {
   "cell_type": "code",
   "execution_count": 11,
   "id": "8aaaf9cf",
   "metadata": {},
   "outputs": [
    {
     "name": "stdout",
     "output_type": "stream",
     "text": [
      "+----------+-------+-----------+--------------------+\n",
      "|      ISBN|User-ID|Book-Rating|          Book-Title|\n",
      "+----------+-------+-----------+--------------------+\n",
      "|0000913154| 171118|          8|The Way Things Wo...|\n",
      "|0001046438|  23902|          9|                Liar|\n",
      "|0001046934| 206300|          0|The Prime of Miss...|\n",
      "|0001047213|  23902|          9|    The Fighting Man|\n",
      "|0001047647| 244994|          0|  First Among Equals|\n",
      "|0001048473|  23902|          0|Nothing Can Be Be...|\n",
      "|0001053744| 189835|          5| Pearl and Sir Orfeo|\n",
      "|0001372564|  16319|          0|       Which Colour?|\n",
      "|0001382381|  26583|          0|Huck Scarry's Ste...|\n",
      "|0001711253| 156534|          0|  The Big Honey Hunt|\n",
      "+----------+-------+-----------+--------------------+\n",
      "only showing top 10 rows\n",
      "\n"
     ]
    }
   ],
   "source": [
    "newer.show(10)"
   ]
  },
  {
   "cell_type": "code",
   "execution_count": 12,
   "id": "4e6d8991",
   "metadata": {},
   "outputs": [],
   "source": [
    "df=newer.select('User-ID','Book-Title','Book-Rating')"
   ]
  },
  {
   "cell_type": "code",
   "execution_count": 13,
   "id": "d9b3a9c0",
   "metadata": {},
   "outputs": [
    {
     "name": "stdout",
     "output_type": "stream",
     "text": [
      "+--------------------+-----+\n",
      "|          Book-Title|count|\n",
      "+--------------------+-----+\n",
      "|         Wild Animus| 2502|\n",
      "|The Lovely Bones:...| 1295|\n",
      "|   The Da Vinci Code|  898|\n",
      "|     A Painted House|  838|\n",
      "|The Nanny Diaries...|  828|\n",
      "|Bridget Jones's D...|  815|\n",
      "|The Secret Life o...|  774|\n",
      "|Divine Secrets of...|  740|\n",
      "|The Red Tent (Bes...|  723|\n",
      "| Angels &amp; Demons|  670|\n",
      "|          Life of Pi|  664|\n",
      "|Snow Falling on C...|  662|\n",
      "|         The Summons|  655|\n",
      "|        The Notebook|  650|\n",
      "|       The Testament|  617|\n",
      "|House of Sand and...|  588|\n",
      "|Where the Heart I...|  585|\n",
      "|   The Pelican Brief|  581|\n",
      "|Harry Potter and ...|  575|\n",
      "|The Girls' Guide ...|  573|\n",
      "+--------------------+-----+\n",
      "only showing top 20 rows\n",
      "\n"
     ]
    }
   ],
   "source": [
    "df.groupBy('Book-Title').count().orderBy('count',ascending=False).show()"
   ]
  },
  {
   "cell_type": "code",
   "execution_count": 14,
   "id": "f0014012",
   "metadata": {},
   "outputs": [
    {
     "name": "stdout",
     "output_type": "stream",
     "text": [
      "+--------------------+-----+\n",
      "|          Book-Title|count|\n",
      "+--------------------+-----+\n",
      "|  Better in the Dark|    1|\n",
      "|     Place Last Seen|    1|\n",
      "|A Tale of a Tub a...|    1|\n",
      "|The I.R.A (Fontan...|    1|\n",
      "|From the Bluest P...|    1|\n",
      "|Exploring Marketi...|    1|\n",
      "|Black Hawk: An Au...|    1|\n",
      "|Leadership When t...|    1|\n",
      "|Black Holes: The ...|    1|\n",
      "|Forensic Anthropo...|    1|\n",
      "|Artificial Worlds...|    1|\n",
      "|Windows NT Admini...|    1|\n",
      "|Old friends, new ...|    1|\n",
      "|\"The \\I Can't Bel...|    1|\n",
      "|Little Bunny's Ma...|    1|\n",
      "|The Harpercollins...|    1|\n",
      "|\"Baby Natasha In ...|    1|\n",
      "|Religions of the ...|    1|\n",
      "|KJV Classic Refer...|    1|\n",
      "|The Complete Idio...|    1|\n",
      "+--------------------+-----+\n",
      "only showing top 20 rows\n",
      "\n"
     ]
    }
   ],
   "source": [
    "df.groupBy('Book-Title').count().orderBy('count',ascending=True).show()"
   ]
  },
  {
   "cell_type": "code",
   "execution_count": 15,
   "id": "366259ce",
   "metadata": {},
   "outputs": [
    {
     "name": "stdout",
     "output_type": "stream",
     "text": [
      "+-------+--------------------+-----------+\n",
      "|User-ID|          Book-Title|Book-Rating|\n",
      "+-------+--------------------+-----------+\n",
      "| 171118|The Way Things Wo...|          8|\n",
      "|  23902|                Liar|          9|\n",
      "| 206300|The Prime of Miss...|          0|\n",
      "|  23902|    The Fighting Man|          9|\n",
      "+-------+--------------------+-----------+\n",
      "only showing top 4 rows\n",
      "\n"
     ]
    }
   ],
   "source": [
    "df.show(4)"
   ]
  },
  {
   "cell_type": "code",
   "execution_count": 16,
   "id": "3877ccb8",
   "metadata": {},
   "outputs": [],
   "source": [
    "#convert the book title to numbers\n",
    "indexed=StringIndexer(inputCol='Book-Title',outputCol='indexed').fit(df)"
   ]
  },
  {
   "cell_type": "code",
   "execution_count": 17,
   "id": "a71564e1",
   "metadata": {},
   "outputs": [],
   "source": [
    "newdf=indexed.transform(df)"
   ]
  },
  {
   "cell_type": "code",
   "execution_count": 18,
   "id": "66f703a5",
   "metadata": {},
   "outputs": [
    {
     "name": "stdout",
     "output_type": "stream",
     "text": [
      "+-------+--------------------+-----------+--------+\n",
      "|User-ID|          Book-Title|Book-Rating| indexed|\n",
      "+-------+--------------------+-----------+--------+\n",
      "| 171118|The Way Things Wo...|          8|225978.0|\n",
      "|  23902|                Liar|          9| 11117.0|\n",
      "+-------+--------------------+-----------+--------+\n",
      "only showing top 2 rows\n",
      "\n"
     ]
    }
   ],
   "source": [
    "newdf.show(2)"
   ]
  },
  {
   "cell_type": "code",
   "execution_count": 84,
   "id": "c6339d54",
   "metadata": {},
   "outputs": [],
   "source": [
    "rec=ALS(userCol='User-ID',ratingCol='Book-Rating',itemCol='indexed')"
   ]
  },
  {
   "cell_type": "code",
   "execution_count": 85,
   "id": "7d995a98",
   "metadata": {},
   "outputs": [],
   "source": [
    "model=rec.fit(newdf)"
   ]
  },
  {
   "cell_type": "code",
   "execution_count": 86,
   "id": "3d15a210",
   "metadata": {},
   "outputs": [],
   "source": [
    "new=model.transform(newdf)"
   ]
  },
  {
   "cell_type": "code",
   "execution_count": 87,
   "id": "e3f7d444",
   "metadata": {},
   "outputs": [
    {
     "name": "stdout",
     "output_type": "stream",
     "text": [
      "+-------+--------------------+-----------+--------+-----------+\n",
      "|User-ID|          Book-Title|Book-Rating| indexed| prediction|\n",
      "+-------+--------------------+-----------+--------+-----------+\n",
      "|  23902|                Liar|          9| 11117.0|   8.957099|\n",
      "|  23902|\"T.S. Eliot Readi...|          6|113773.0|  6.1472406|\n",
      "| 206300|The Prime of Miss...|          0| 10562.0|-0.50765455|\n",
      "+-------+--------------------+-----------+--------+-----------+\n",
      "only showing top 3 rows\n",
      "\n"
     ]
    }
   ],
   "source": [
    "new.show(3)"
   ]
  },
  {
   "cell_type": "code",
   "execution_count": 25,
   "id": "8122ecfe",
   "metadata": {},
   "outputs": [],
   "source": [
    "from pyspark.ml.evaluation import RegressionEvaluator"
   ]
  },
  {
   "cell_type": "code",
   "execution_count": 88,
   "id": "790dc164",
   "metadata": {},
   "outputs": [],
   "source": [
    "evaluator=RegressionEvaluator(metricName='rmse',predictionCol='prediction',labelCol='Book-Rating')"
   ]
  },
  {
   "cell_type": "code",
   "execution_count": 89,
   "id": "7fc25867",
   "metadata": {},
   "outputs": [],
   "source": [
    "rmse=evaluator.evaluate(new)"
   ]
  },
  {
   "cell_type": "code",
   "execution_count": 90,
   "id": "a82b794c",
   "metadata": {},
   "outputs": [
    {
     "name": "stdout",
     "output_type": "stream",
     "text": [
      "1.4338129909216222\n"
     ]
    }
   ],
   "source": [
    "print(rmse)"
   ]
  },
  {
   "cell_type": "code",
   "execution_count": 39,
   "id": "a387e2db",
   "metadata": {},
   "outputs": [],
   "source": [
    "unique_books=new.select('indexed').distinct()"
   ]
  },
  {
   "cell_type": "code",
   "execution_count": 40,
   "id": "48a3daa4",
   "metadata": {},
   "outputs": [
    {
     "data": {
      "text/plain": [
       "205959"
      ]
     },
     "execution_count": 40,
     "metadata": {},
     "output_type": "execute_result"
    }
   ],
   "source": [
    "unique_books.count()"
   ]
  },
  {
   "cell_type": "code",
   "execution_count": 32,
   "id": "6ccd3807",
   "metadata": {},
   "outputs": [],
   "source": [
    "userid=23902"
   ]
  },
  {
   "cell_type": "code",
   "execution_count": 43,
   "id": "7cf8602f",
   "metadata": {},
   "outputs": [],
   "source": [
    "ans=new.filter(new['User-ID']!=userid).select('indexed').distinct()"
   ]
  },
  {
   "cell_type": "code",
   "execution_count": 44,
   "id": "8e3de143",
   "metadata": {},
   "outputs": [
    {
     "name": "stdout",
     "output_type": "stream",
     "text": [
      "+--------+\n",
      "| indexed|\n",
      "+--------+\n",
      "|   305.0|\n",
      "| 43284.0|\n",
      "| 70352.0|\n",
      "| 13607.0|\n",
      "| 63392.0|\n",
      "|160848.0|\n",
      "| 10681.0|\n",
      "| 25175.0|\n",
      "| 35734.0|\n",
      "| 22274.0|\n",
      "+--------+\n",
      "only showing top 10 rows\n",
      "\n"
     ]
    }
   ],
   "source": [
    "ans.show(10)"
   ]
  },
  {
   "cell_type": "code",
   "execution_count": 67,
   "id": "7e7a78f5",
   "metadata": {},
   "outputs": [],
   "source": [
    "new_sol=ans.withColumn('User-ID',lit(userid))"
   ]
  },
  {
   "cell_type": "code",
   "execution_count": 66,
   "id": "d8a0a471",
   "metadata": {},
   "outputs": [
    {
     "name": "stdout",
     "output_type": "stream",
     "text": [
      "+--------+------+\n",
      "| indexed|userid|\n",
      "+--------+------+\n",
      "|   305.0| 23902|\n",
      "| 43284.0| 23902|\n",
      "| 70352.0| 23902|\n",
      "| 13607.0| 23902|\n",
      "| 63392.0| 23902|\n",
      "|160848.0| 23902|\n",
      "| 10681.0| 23902|\n",
      "| 25175.0| 23902|\n",
      "| 35734.0| 23902|\n",
      "| 22274.0| 23902|\n",
      "| 28134.0| 23902|\n",
      "|   558.0| 23902|\n",
      "| 28553.0| 23902|\n",
      "|  7171.0| 23902|\n",
      "| 62461.0| 23902|\n",
      "| 23503.0| 23902|\n",
      "| 40186.0| 23902|\n",
      "| 24923.0| 23902|\n",
      "| 39221.0| 23902|\n",
      "| 21309.0| 23902|\n",
      "+--------+------+\n",
      "only showing top 20 rows\n",
      "\n"
     ]
    }
   ],
   "source": [
    "new_sol.show()"
   ]
  },
  {
   "cell_type": "code",
   "execution_count": 68,
   "id": "4ec26093",
   "metadata": {},
   "outputs": [],
   "source": [
    "recommendation=model.transform(new_sol)"
   ]
  },
  {
   "cell_type": "code",
   "execution_count": 69,
   "id": "c7b8d6c8",
   "metadata": {},
   "outputs": [
    {
     "name": "stdout",
     "output_type": "stream",
     "text": [
      "+--------+-------+------------+\n",
      "| indexed|User-ID|  prediction|\n",
      "+--------+-------+------------+\n",
      "|   305.0|  23902|   7.1379986|\n",
      "| 63392.0|  23902|         0.0|\n",
      "|160848.0|  23902|    2.599407|\n",
      "| 13607.0|  23902|-0.016468167|\n",
      "| 43284.0|  23902|    3.588064|\n",
      "+--------+-------+------------+\n",
      "only showing top 5 rows\n",
      "\n"
     ]
    }
   ],
   "source": [
    "recommendation.show(5)"
   ]
  },
  {
   "cell_type": "code",
   "execution_count": 70,
   "id": "a18d8b17",
   "metadata": {},
   "outputs": [],
   "source": [
    "convert=IndexToString(inputCol='indexed',outputCol='title',labels=indexed.labels)"
   ]
  },
  {
   "cell_type": "code",
   "execution_count": 71,
   "id": "c3c57e88",
   "metadata": {},
   "outputs": [],
   "source": [
    "rec=convert.transform(recommendation)"
   ]
  },
  {
   "cell_type": "code",
   "execution_count": 74,
   "id": "4f061938",
   "metadata": {},
   "outputs": [
    {
     "name": "stdout",
     "output_type": "stream",
     "text": [
      "+--------+-------+----------+--------------------+\n",
      "| indexed|User-ID|prediction|               title|\n",
      "+--------+-------+----------+--------------------+\n",
      "|109017.0|  23902| 18.522997|The children's pi...|\n",
      "| 51102.0|  23902| 18.124266|A Promise to Reme...|\n",
      "| 14308.0|  23902| 18.077991|       Deep Thoughts|\n",
      "|106455.0|  23902| 16.476223|The Official Nora...|\n",
      "| 45781.0|  23902| 16.366352|Poetry of Robert ...|\n",
      "|  8710.0|  23902| 15.898792|              Catkin|\n",
      "| 33772.0|  23902| 15.622518|         Fevre Dream|\n",
      "| 38413.0|  23902| 15.570631|The Wounded Sky (...|\n",
      "|  6606.0|  23902| 15.321466|Menopaws: The Sil...|\n",
      "| 19604.0|  23902| 15.306931|            Unveiled|\n",
      "| 20777.0|  23902| 15.235368|  If You Come Softly|\n",
      "| 13765.0|  23902| 15.197332|           The Lorax|\n",
      "| 38142.0|  23902| 15.150293|The Second Mark :...|\n",
      "| 18922.0|  23902| 15.036689|Silent Spring: Ra...|\n",
      "| 57990.0|  23902|15.0069065|I Dream a World: ...|\n",
      "| 13101.0|  23902| 14.878612|  Foundation Trilogy|\n",
      "| 42681.0|  23902| 14.844052|Garfield in the M...|\n",
      "| 12500.0|  23902| 14.713887|The Kid's Book of...|\n",
      "| 63188.0|  23902| 14.608851|Robert Frost (The...|\n",
      "| 23699.0|  23902| 14.606518|HTML : The Defini...|\n",
      "+--------+-------+----------+--------------------+\n",
      "only showing top 20 rows\n",
      "\n"
     ]
    }
   ],
   "source": [
    "rec.orderBy('prediction',ascending=False).show()"
   ]
  },
  {
   "cell_type": "code",
   "execution_count": null,
   "id": "cd9f3ac4",
   "metadata": {},
   "outputs": [],
   "source": []
  }
 ],
 "metadata": {
  "kernelspec": {
   "display_name": "Python 3 (ipykernel)",
   "language": "python",
   "name": "python3"
  },
  "language_info": {
   "codemirror_mode": {
    "name": "ipython",
    "version": 3
   },
   "file_extension": ".py",
   "mimetype": "text/x-python",
   "name": "python",
   "nbconvert_exporter": "python",
   "pygments_lexer": "ipython3",
   "version": "3.9.9"
  }
 },
 "nbformat": 4,
 "nbformat_minor": 5
}
